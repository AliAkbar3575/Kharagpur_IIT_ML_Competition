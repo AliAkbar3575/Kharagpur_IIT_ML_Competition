{
 "cells": [
  {
   "cell_type": "code",
   "execution_count": 1,
   "metadata": {},
   "outputs": [],
   "source": [
    "import numpy as np\n",
    "import pandas as pd\n",
    "import matplotlib.pyplot as plt"
   ]
  },
  {
   "cell_type": "code",
   "execution_count": 2,
   "metadata": {},
   "outputs": [
    {
     "name": "stdout",
     "output_type": "stream",
     "text": [
      "(6700, 16)\n"
     ]
    },
    {
     "data": {
      "text/html": [
       "<div>\n",
       "<style scoped>\n",
       "    .dataframe tbody tr th:only-of-type {\n",
       "        vertical-align: middle;\n",
       "    }\n",
       "\n",
       "    .dataframe tbody tr th {\n",
       "        vertical-align: top;\n",
       "    }\n",
       "\n",
       "    .dataframe thead th {\n",
       "        text-align: right;\n",
       "    }\n",
       "</style>\n",
       "<table border=\"1\" class=\"dataframe\">\n",
       "  <thead>\n",
       "    <tr style=\"text-align: right;\">\n",
       "      <th></th>\n",
       "      <th>id</th>\n",
       "      <th>departure city</th>\n",
       "      <th>discount</th>\n",
       "      <th>price</th>\n",
       "      <th>no of items</th>\n",
       "      <th>location</th>\n",
       "      <th>class</th>\n",
       "      <th>segment</th>\n",
       "      <th>sub-class</th>\n",
       "      <th>delivery type</th>\n",
       "      <th>RID</th>\n",
       "      <th>profit</th>\n",
       "      <th>delivery date</th>\n",
       "      <th>address code</th>\n",
       "      <th>departure state</th>\n",
       "      <th>placement date</th>\n",
       "    </tr>\n",
       "  </thead>\n",
       "  <tbody>\n",
       "    <tr>\n",
       "      <th>0</th>\n",
       "      <td>1</td>\n",
       "      <td>Houston</td>\n",
       "      <td>0.2</td>\n",
       "      <td>16.448</td>\n",
       "      <td>2</td>\n",
       "      <td>Central</td>\n",
       "      <td>kariox</td>\n",
       "      <td>Consumer</td>\n",
       "      <td>phone</td>\n",
       "      <td>Standard Class</td>\n",
       "      <td>7981</td>\n",
       "      <td>5.5512</td>\n",
       "      <td>2018-01-01</td>\n",
       "      <td>77095</td>\n",
       "      <td>Texas</td>\n",
       "      <td>2018-01-01</td>\n",
       "    </tr>\n",
       "    <tr>\n",
       "      <th>1</th>\n",
       "      <td>2</td>\n",
       "      <td>Westland</td>\n",
       "      <td>0.0</td>\n",
       "      <td>29.700</td>\n",
       "      <td>5</td>\n",
       "      <td>Central</td>\n",
       "      <td>kariox</td>\n",
       "      <td>Consumer</td>\n",
       "      <td>headset</td>\n",
       "      <td>Standard Class</td>\n",
       "      <td>6334</td>\n",
       "      <td>13.3650</td>\n",
       "      <td>2018-01-01</td>\n",
       "      <td>48185</td>\n",
       "      <td>Michigan</td>\n",
       "      <td>2018-01-01</td>\n",
       "    </tr>\n",
       "    <tr>\n",
       "      <th>2</th>\n",
       "      <td>3</td>\n",
       "      <td>Westland</td>\n",
       "      <td>0.0</td>\n",
       "      <td>14.730</td>\n",
       "      <td>3</td>\n",
       "      <td>Central</td>\n",
       "      <td>qexty</td>\n",
       "      <td>Consumer</td>\n",
       "      <td>shorts</td>\n",
       "      <td>Standard Class</td>\n",
       "      <td>6333</td>\n",
       "      <td>4.8609</td>\n",
       "      <td>2018-01-01</td>\n",
       "      <td>48185</td>\n",
       "      <td>Michigan</td>\n",
       "      <td>2018-01-01</td>\n",
       "    </tr>\n",
       "    <tr>\n",
       "      <th>3</th>\n",
       "      <td>4</td>\n",
       "      <td>Westland</td>\n",
       "      <td>0.0</td>\n",
       "      <td>43.920</td>\n",
       "      <td>3</td>\n",
       "      <td>Central</td>\n",
       "      <td>kariox</td>\n",
       "      <td>Consumer</td>\n",
       "      <td>television</td>\n",
       "      <td>Standard Class</td>\n",
       "      <td>6332</td>\n",
       "      <td>12.7368</td>\n",
       "      <td>2018-01-01</td>\n",
       "      <td>48185</td>\n",
       "      <td>Michigan</td>\n",
       "      <td>2018-01-01</td>\n",
       "    </tr>\n",
       "    <tr>\n",
       "      <th>4</th>\n",
       "      <td>5</td>\n",
       "      <td>Westland</td>\n",
       "      <td>0.0</td>\n",
       "      <td>66.580</td>\n",
       "      <td>2</td>\n",
       "      <td>Central</td>\n",
       "      <td>kariox</td>\n",
       "      <td>Consumer</td>\n",
       "      <td>laptop</td>\n",
       "      <td>Standard Class</td>\n",
       "      <td>6331</td>\n",
       "      <td>15.9792</td>\n",
       "      <td>2018-01-01</td>\n",
       "      <td>48185</td>\n",
       "      <td>Michigan</td>\n",
       "      <td>2018-01-01</td>\n",
       "    </tr>\n",
       "  </tbody>\n",
       "</table>\n",
       "</div>"
      ],
      "text/plain": [
       "   id departure city  discount   price  no of items location   class  \\\n",
       "0   1        Houston       0.2  16.448            2  Central  kariox   \n",
       "1   2       Westland       0.0  29.700            5  Central  kariox   \n",
       "2   3       Westland       0.0  14.730            3  Central   qexty   \n",
       "3   4       Westland       0.0  43.920            3  Central  kariox   \n",
       "4   5       Westland       0.0  66.580            2  Central  kariox   \n",
       "\n",
       "    segment   sub-class   delivery type   RID   profit delivery date  \\\n",
       "0  Consumer       phone  Standard Class  7981   5.5512    2018-01-01   \n",
       "1  Consumer     headset  Standard Class  6334  13.3650    2018-01-01   \n",
       "2  Consumer      shorts  Standard Class  6333   4.8609    2018-01-01   \n",
       "3  Consumer  television  Standard Class  6332  12.7368    2018-01-01   \n",
       "4  Consumer      laptop  Standard Class  6331  15.9792    2018-01-01   \n",
       "\n",
       "   address code departure state placement date  \n",
       "0         77095           Texas     2018-01-01  \n",
       "1         48185        Michigan     2018-01-01  \n",
       "2         48185        Michigan     2018-01-01  \n",
       "3         48185        Michigan     2018-01-01  \n",
       "4         48185        Michigan     2018-01-01  "
      ]
     },
     "execution_count": 2,
     "metadata": {},
     "output_type": "execute_result"
    }
   ],
   "source": [
    "df = pd.read_csv('train.csv')\n",
    "print(df.shape)\n",
    "df.head(5)"
   ]
  },
  {
   "cell_type": "markdown",
   "metadata": {},
   "source": [
    "# preprocessing"
   ]
  },
  {
   "cell_type": "code",
   "execution_count": 3,
   "metadata": {},
   "outputs": [],
   "source": [
    "def preprocessing(df):\n",
    "    \n",
    "    dff = df[['discount', 'no of items', 'price', 'sub-class', 'delivery type', 'profit']]\n",
    "    \n",
    "    dff.dropna(inplace=True)\n",
    "\n",
    "    dff['ppi'] = dff['price']/dff['no of items']\n",
    "\n",
    "\n",
    "    final_df = pd.get_dummies(dff, columns=['sub-class', 'delivery type'])\n",
    "    return final_df"
   ]
  },
  {
   "cell_type": "code",
   "execution_count": 4,
   "metadata": {
    "scrolled": true
   },
   "outputs": [
    {
     "name": "stderr",
     "output_type": "stream",
     "text": [
      "C:\\Users\\User\\.conda\\envs\\AntonioEnv\\lib\\site-packages\\ipykernel_launcher.py:5: SettingWithCopyWarning: \n",
      "A value is trying to be set on a copy of a slice from a DataFrame\n",
      "\n",
      "See the caveats in the documentation: https://pandas.pydata.org/pandas-docs/stable/user_guide/indexing.html#returning-a-view-versus-a-copy\n",
      "  \"\"\"\n",
      "C:\\Users\\User\\.conda\\envs\\AntonioEnv\\lib\\site-packages\\ipykernel_launcher.py:7: SettingWithCopyWarning: \n",
      "A value is trying to be set on a copy of a slice from a DataFrame.\n",
      "Try using .loc[row_indexer,col_indexer] = value instead\n",
      "\n",
      "See the caveats in the documentation: https://pandas.pydata.org/pandas-docs/stable/user_guide/indexing.html#returning-a-view-versus-a-copy\n",
      "  import sys\n"
     ]
    }
   ],
   "source": [
    "train_df = preprocessing(df)\n",
    "y = train_df['profit']\n",
    "X = train_df.drop(columns=['profit', 'price'])"
   ]
  },
  {
   "cell_type": "code",
   "execution_count": 6,
   "metadata": {},
   "outputs": [],
   "source": [
    "#import all necessary libraries\n",
    "\n",
    "from sklearn.model_selection import train_test_split\n",
    "from sklearn.preprocessing import StandardScaler\n",
    "from sklearn.preprocessing import MinMaxScaler\n",
    "from sklearn.model_selection import cross_val_score\n",
    "from sklearn.model_selection import GridSearchCV\n",
    "from sklearn.ensemble import RandomForestRegressor\n",
    "from sklearn.ensemble import ExtraTreesRegressor\n",
    "from sklearn.ensemble import GradientBoostingRegressor\n",
    "import catboost\n",
    "from catboost import CatBoostRegressor"
   ]
  },
  {
   "cell_type": "code",
   "execution_count": 10,
   "metadata": {},
   "outputs": [],
   "source": [
    "scaler = MinMaxScaler(feature_range=(-1,1))\n",
    "Xsc = scaler.fit_transform(X)\n",
    "\n",
    "X_train, X_test, y_train, y_test = train_test_split(Xsc, y, random_state=42)"
   ]
  },
  {
   "cell_type": "markdown",
   "metadata": {},
   "source": [
    "# Hyperparameters tuning"
   ]
  },
  {
   "cell_type": "code",
   "execution_count": 33,
   "metadata": {},
   "outputs": [],
   "source": [
    "model_params = {\n",
    "    \n",
    "    'etr' : {\n",
    "        'model': ExtraTreesRegressor(),\n",
    "        'params': {\n",
    "            'n_estimators': [100, 500, 800, 1000, 1500],\n",
    "            'max_features': ['sqrt', 'log2'],\n",
    "        }\n",
    "    }\n",
    "}"
   ]
  },
  {
   "cell_type": "code",
   "execution_count": 34,
   "metadata": {},
   "outputs": [
    {
     "data": {
      "text/html": [
       "<div>\n",
       "<style scoped>\n",
       "    .dataframe tbody tr th:only-of-type {\n",
       "        vertical-align: middle;\n",
       "    }\n",
       "\n",
       "    .dataframe tbody tr th {\n",
       "        vertical-align: top;\n",
       "    }\n",
       "\n",
       "    .dataframe thead th {\n",
       "        text-align: right;\n",
       "    }\n",
       "</style>\n",
       "<table border=\"1\" class=\"dataframe\">\n",
       "  <thead>\n",
       "    <tr style=\"text-align: right;\">\n",
       "      <th></th>\n",
       "      <th>model</th>\n",
       "      <th>best_score</th>\n",
       "      <th>best_params</th>\n",
       "    </tr>\n",
       "  </thead>\n",
       "  <tbody>\n",
       "    <tr>\n",
       "      <th>0</th>\n",
       "      <td>etr</td>\n",
       "      <td>0.672765</td>\n",
       "      <td>{'max_features': 'log2', 'n_estimators': 1500}</td>\n",
       "    </tr>\n",
       "  </tbody>\n",
       "</table>\n",
       "</div>"
      ],
      "text/plain": [
       "  model  best_score                                     best_params\n",
       "0   etr    0.672765  {'max_features': 'log2', 'n_estimators': 1500}"
      ]
     },
     "execution_count": 34,
     "metadata": {},
     "output_type": "execute_result"
    }
   ],
   "source": [
    "scores = []\n",
    "for model_name, mp in model_params.items():\n",
    "    clf = GridSearchCV(mp['model'], mp['params'], cv=5, return_train_score=False)\n",
    "    clf.fit(Xsc, y)\n",
    "    \n",
    "    scores.append({\n",
    "        'model': model_name,\n",
    "        'best_score' : clf.best_score_,\n",
    "        'best_params' : clf.best_params_\n",
    "    })\n",
    "pd.DataFrame(scores)"
   ]
  },
  {
   "cell_type": "code",
   "execution_count": null,
   "metadata": {},
   "outputs": [],
   "source": [
    "reg = GridSearchCV(ExtraTreesRegressor(), {\n",
    "    'n_estimators': [100, 500, 800],\n",
    "    'max_features': ['sqrt'],\n",
    "    'criterion': ['mae', 'mse']\n",
    "}, cv=5, return_train_score=False)\n",
    "\n",
    "reg.fit(Xsc,y)\n",
    "print(pd.DataFrame(reg.cv_results_)[['params','mean_test_score']].sort_values(by=['mean_test_score'], ascending=False).head(3))\n",
    "best_params_rf = reg.best_params_\n",
    "print(best_params_rf)"
   ]
  },
  {
   "cell_type": "markdown",
   "metadata": {},
   "source": [
    "# training model"
   ]
  },
  {
   "cell_type": "code",
   "execution_count": 26,
   "metadata": {},
   "outputs": [],
   "source": [
    "model_info = []"
   ]
  },
  {
   "cell_type": "code",
   "execution_count": 27,
   "metadata": {},
   "outputs": [],
   "source": [
    "def train_model(model, model_name):\n",
    "    reg = model.fit(X_train, y_train)\n",
    "    \n",
    "#     cv_score = cross_val_score(reg, X_train, y_train, cv=10, scoring='r2')\n",
    "    \n",
    "    print(f'model info for {model_name.upper()} regressor : ')\n",
    "    print('---------------------------------------------------------------------')\n",
    "\n",
    "#     print(f'Cross-validation : {cv_score}')\n",
    "#     print(f'mean : {np.mean(cv_score)}')\n",
    "#     print(f'median : {np.median(cv_score)}')\n",
    "#     print(f'std : {np.std(cv_score)}\\n')\n",
    "    print(f'train score : {reg.score(X_train, y_train)}')\n",
    "    print(f'test score : {reg.score(X_test, y_test)}')\n",
    "    \n",
    "    model_info.append({\n",
    "        'model': model_name,\n",
    "#         'mean_cv_score': np.mean(cv_score),\n",
    "#         'median': np.median(cv_score),\n",
    "        'train_score': reg.score(X_train, y_train),\n",
    "        'test_score': reg.score(X_test, y_test)\n",
    "    })"
   ]
  },
  {
   "cell_type": "code",
   "execution_count": 28,
   "metadata": {},
   "outputs": [
    {
     "name": "stdout",
     "output_type": "stream",
     "text": [
      "model info for CATBOOST regressor : \n",
      "---------------------------------------------------------------------\n",
      "train score : 0.977545401969897\n",
      "test score : 0.688137745722171\n"
     ]
    }
   ],
   "source": [
    "train_model(CatBoostRegressor(logging_level=\"Silent\", objective=\"MAE\", eta=0.1, n_estimators=4500, subsample=1), 'catboost')"
   ]
  },
  {
   "cell_type": "code",
   "execution_count": 35,
   "metadata": {},
   "outputs": [
    {
     "name": "stdout",
     "output_type": "stream",
     "text": [
      "model info for EXTRATREES regressor : \n",
      "---------------------------------------------------------------------\n",
      "train score : 0.9999126091262234\n",
      "test score : 0.3565125977049467\n"
     ]
    }
   ],
   "source": [
    "train_model(ExtraTreesRegressor(n_estimators = 1500, max_features ='log2'), 'extraTrees')"
   ]
  },
  {
   "cell_type": "code",
   "execution_count": 36,
   "metadata": {},
   "outputs": [
    {
     "data": {
      "text/html": [
       "<div>\n",
       "<style scoped>\n",
       "    .dataframe tbody tr th:only-of-type {\n",
       "        vertical-align: middle;\n",
       "    }\n",
       "\n",
       "    .dataframe tbody tr th {\n",
       "        vertical-align: top;\n",
       "    }\n",
       "\n",
       "    .dataframe thead th {\n",
       "        text-align: right;\n",
       "    }\n",
       "</style>\n",
       "<table border=\"1\" class=\"dataframe\">\n",
       "  <thead>\n",
       "    <tr style=\"text-align: right;\">\n",
       "      <th></th>\n",
       "      <th>model</th>\n",
       "      <th>train_score</th>\n",
       "      <th>test_score</th>\n",
       "    </tr>\n",
       "  </thead>\n",
       "  <tbody>\n",
       "    <tr>\n",
       "      <th>0</th>\n",
       "      <td>catboost</td>\n",
       "      <td>0.977545</td>\n",
       "      <td>0.688138</td>\n",
       "    </tr>\n",
       "    <tr>\n",
       "      <th>1</th>\n",
       "      <td>extraTrees</td>\n",
       "      <td>0.411323</td>\n",
       "      <td>0.033597</td>\n",
       "    </tr>\n",
       "    <tr>\n",
       "      <th>2</th>\n",
       "      <td>extraTrees</td>\n",
       "      <td>0.999913</td>\n",
       "      <td>0.351938</td>\n",
       "    </tr>\n",
       "    <tr>\n",
       "      <th>3</th>\n",
       "      <td>extraTrees</td>\n",
       "      <td>0.999913</td>\n",
       "      <td>0.356513</td>\n",
       "    </tr>\n",
       "  </tbody>\n",
       "</table>\n",
       "</div>"
      ],
      "text/plain": [
       "        model  train_score  test_score\n",
       "0    catboost     0.977545    0.688138\n",
       "1  extraTrees     0.411323    0.033597\n",
       "2  extraTrees     0.999913    0.351938\n",
       "3  extraTrees     0.999913    0.356513"
      ]
     },
     "execution_count": 36,
     "metadata": {},
     "output_type": "execute_result"
    }
   ],
   "source": [
    "pd.DataFrame(model_info)"
   ]
  },
  {
   "cell_type": "code",
   "execution_count": 37,
   "metadata": {},
   "outputs": [],
   "source": [
    "etr = ExtraTreesRegressor(n_estimators = 1500, max_features ='log2').fit(Xsc, y)"
   ]
  },
  {
   "cell_type": "code",
   "execution_count": 38,
   "metadata": {},
   "outputs": [],
   "source": [
    "cbr = CatBoostRegressor(logging_level=\"Silent\", objective=\"MAE\", eta=0.1, n_estimators=4500, subsample=1).fit(Xsc, y)"
   ]
  },
  {
   "cell_type": "code",
   "execution_count": null,
   "metadata": {},
   "outputs": [],
   "source": []
  },
  {
   "cell_type": "markdown",
   "metadata": {},
   "source": [
    "## evaluate model by test data"
   ]
  },
  {
   "cell_type": "code",
   "execution_count": 97,
   "metadata": {},
   "outputs": [],
   "source": [
    "test_data = pd.read_csv('test.csv')"
   ]
  },
  {
   "cell_type": "code",
   "execution_count": 98,
   "metadata": {},
   "outputs": [
    {
     "name": "stderr",
     "output_type": "stream",
     "text": [
      "C:\\Users\\User\\.conda\\envs\\AntonioEnv\\lib\\site-packages\\ipykernel_launcher.py:3: SettingWithCopyWarning: \n",
      "A value is trying to be set on a copy of a slice from a DataFrame\n",
      "\n",
      "See the caveats in the documentation: https://pandas.pydata.org/pandas-docs/stable/user_guide/indexing.html#returning-a-view-versus-a-copy\n",
      "  This is separate from the ipykernel package so we can avoid doing imports until\n",
      "C:\\Users\\User\\.conda\\envs\\AntonioEnv\\lib\\site-packages\\ipykernel_launcher.py:5: SettingWithCopyWarning: \n",
      "A value is trying to be set on a copy of a slice from a DataFrame.\n",
      "Try using .loc[row_indexer,col_indexer] = value instead\n",
      "\n",
      "See the caveats in the documentation: https://pandas.pydata.org/pandas-docs/stable/user_guide/indexing.html#returning-a-view-versus-a-copy\n",
      "  \"\"\"\n",
      "C:\\Users\\User\\.conda\\envs\\AntonioEnv\\lib\\site-packages\\pandas\\core\\frame.py:4170: SettingWithCopyWarning: \n",
      "A value is trying to be set on a copy of a slice from a DataFrame\n",
      "\n",
      "See the caveats in the documentation: https://pandas.pydata.org/pandas-docs/stable/user_guide/indexing.html#returning-a-view-versus-a-copy\n",
      "  errors=errors,\n"
     ]
    }
   ],
   "source": [
    "dff = test_data[['id', 'discount', 'no of items', 'price', 'sub-class', 'delivery type']]\n",
    "    \n",
    "dff.dropna(inplace=True)\n",
    "\n",
    "dff['ppi'] = dff['price']/dff['no of items']\n",
    "dff.drop(columns='price', inplace=True)\n",
    "\n",
    "test_df = pd.get_dummies(dff, columns=['sub-class', 'delivery type'])"
   ]
  },
  {
   "cell_type": "code",
   "execution_count": 99,
   "metadata": {},
   "outputs": [
    {
     "data": {
      "text/plain": [
       "Index(['id', 'discount', 'no of items', 'ppi', 'sub-class_battery',\n",
       "       'sub-class_charger', 'sub-class_chocolates', 'sub-class_colddrinks',\n",
       "       'sub-class_fastfood', 'sub-class_headset', 'sub-class_hoodies',\n",
       "       'sub-class_laptop', 'sub-class_lighting', 'sub-class_pants',\n",
       "       'sub-class_phone', 'sub-class_shorts', 'sub-class_sweets',\n",
       "       'sub-class_tablet', 'sub-class_television', 'sub-class_tshirts',\n",
       "       'sub-class_watch', 'delivery type_First Class',\n",
       "       'delivery type_Same Day', 'delivery type_Second Class',\n",
       "       'delivery type_Standard Class'],\n",
       "      dtype='object')"
      ]
     },
     "execution_count": 99,
     "metadata": {},
     "output_type": "execute_result"
    }
   ],
   "source": [
    "test_df.columns"
   ]
  },
  {
   "cell_type": "code",
   "execution_count": 100,
   "metadata": {},
   "outputs": [
    {
     "data": {
      "text/plain": [
       "Index(['discount', 'no of items', 'ppi', 'sub-class_battery',\n",
       "       'sub-class_charger', 'sub-class_chocolates', 'sub-class_colddrinks',\n",
       "       'sub-class_fastfood', 'sub-class_headset', 'sub-class_hoodies',\n",
       "       'sub-class_laptop', 'sub-class_lighting', 'sub-class_pants',\n",
       "       'sub-class_phone', 'sub-class_shorts', 'sub-class_sweets',\n",
       "       'sub-class_tablet', 'sub-class_television', 'sub-class_tshirts',\n",
       "       'sub-class_watch', 'delivery type_First Class',\n",
       "       'delivery type_Same Day', 'delivery type_Second Class',\n",
       "       'delivery type_Standard Class'],\n",
       "      dtype='object')"
      ]
     },
     "execution_count": 100,
     "metadata": {},
     "output_type": "execute_result"
    }
   ],
   "source": [
    "X.columns"
   ]
  },
  {
   "cell_type": "code",
   "execution_count": 101,
   "metadata": {},
   "outputs": [],
   "source": [
    "id = test_data.id\n",
    "test_df.drop(columns=['id'], inplace=True)"
   ]
  },
  {
   "cell_type": "code",
   "execution_count": 102,
   "metadata": {},
   "outputs": [
    {
     "name": "stdout",
     "output_type": "stream",
     "text": [
      "(3294, 24)\n",
      "(6699, 24)\n"
     ]
    }
   ],
   "source": [
    "print(test_df.shape)\n",
    "print(Xsc.shape)"
   ]
  },
  {
   "cell_type": "code",
   "execution_count": 103,
   "metadata": {},
   "outputs": [],
   "source": [
    "test_df = scaler.transform(test_df)"
   ]
  },
  {
   "cell_type": "code",
   "execution_count": 105,
   "metadata": {},
   "outputs": [],
   "source": [
    "etr_output = etr.predict(test_df)\n",
    "\n",
    "etr_op = pd.DataFrame({\n",
    "    'id' : id,\n",
    "    'profit' : etr_output\n",
    "})"
   ]
  },
  {
   "cell_type": "code",
   "execution_count": 107,
   "metadata": {},
   "outputs": [],
   "source": [
    "cbr_output = cbr.predict(test_df)\n",
    "\n",
    "cbr_op = pd.DataFrame({\n",
    "    'id' : id,\n",
    "    'profit' :cbr_output\n",
    "})"
   ]
  },
  {
   "cell_type": "code",
   "execution_count": 111,
   "metadata": {
    "scrolled": false
   },
   "outputs": [
    {
     "data": {
      "text/html": [
       "<div>\n",
       "<style scoped>\n",
       "    .dataframe tbody tr th:only-of-type {\n",
       "        vertical-align: middle;\n",
       "    }\n",
       "\n",
       "    .dataframe tbody tr th {\n",
       "        vertical-align: top;\n",
       "    }\n",
       "\n",
       "    .dataframe thead th {\n",
       "        text-align: right;\n",
       "    }\n",
       "</style>\n",
       "<table border=\"1\" class=\"dataframe\">\n",
       "  <thead>\n",
       "    <tr style=\"text-align: right;\">\n",
       "      <th></th>\n",
       "      <th>id</th>\n",
       "      <th>profit</th>\n",
       "    </tr>\n",
       "  </thead>\n",
       "  <tbody>\n",
       "    <tr>\n",
       "      <th>0</th>\n",
       "      <td>6701</td>\n",
       "      <td>7.252356</td>\n",
       "    </tr>\n",
       "    <tr>\n",
       "      <th>1</th>\n",
       "      <td>6702</td>\n",
       "      <td>34.101437</td>\n",
       "    </tr>\n",
       "    <tr>\n",
       "      <th>2</th>\n",
       "      <td>6703</td>\n",
       "      <td>1.123307</td>\n",
       "    </tr>\n",
       "    <tr>\n",
       "      <th>3</th>\n",
       "      <td>6704</td>\n",
       "      <td>3.901357</td>\n",
       "    </tr>\n",
       "    <tr>\n",
       "      <th>4</th>\n",
       "      <td>6705</td>\n",
       "      <td>4.983583</td>\n",
       "    </tr>\n",
       "    <tr>\n",
       "      <th>...</th>\n",
       "      <td>...</td>\n",
       "      <td>...</td>\n",
       "    </tr>\n",
       "    <tr>\n",
       "      <th>3289</th>\n",
       "      <td>9990</td>\n",
       "      <td>7.180028</td>\n",
       "    </tr>\n",
       "    <tr>\n",
       "      <th>3290</th>\n",
       "      <td>9991</td>\n",
       "      <td>9.333608</td>\n",
       "    </tr>\n",
       "    <tr>\n",
       "      <th>3291</th>\n",
       "      <td>9992</td>\n",
       "      <td>-4.935844</td>\n",
       "    </tr>\n",
       "    <tr>\n",
       "      <th>3292</th>\n",
       "      <td>9993</td>\n",
       "      <td>4.935465</td>\n",
       "    </tr>\n",
       "    <tr>\n",
       "      <th>3293</th>\n",
       "      <td>9994</td>\n",
       "      <td>0.590874</td>\n",
       "    </tr>\n",
       "  </tbody>\n",
       "</table>\n",
       "<p>3294 rows × 2 columns</p>\n",
       "</div>"
      ],
      "text/plain": [
       "        id     profit\n",
       "0     6701   7.252356\n",
       "1     6702  34.101437\n",
       "2     6703   1.123307\n",
       "3     6704   3.901357\n",
       "4     6705   4.983583\n",
       "...    ...        ...\n",
       "3289  9990   7.180028\n",
       "3290  9991   9.333608\n",
       "3291  9992  -4.935844\n",
       "3292  9993   4.935465\n",
       "3293  9994   0.590874\n",
       "\n",
       "[3294 rows x 2 columns]"
      ]
     },
     "execution_count": 111,
     "metadata": {},
     "output_type": "execute_result"
    }
   ],
   "source": [
    "cbr_op"
   ]
  },
  {
   "cell_type": "code",
   "execution_count": 116,
   "metadata": {},
   "outputs": [],
   "source": [
    "final_output = pd.DataFrame({\n",
    "    'id': id,\n",
    "    'profit': (etr_op['profit'] + cbr_op['profit'])/2\n",
    "})"
   ]
  },
  {
   "cell_type": "code",
   "execution_count": 118,
   "metadata": {},
   "outputs": [],
   "source": [
    "final_output.to_csv('submission_01.csv', index=False)"
   ]
  },
  {
   "cell_type": "code",
   "execution_count": 119,
   "metadata": {},
   "outputs": [
    {
     "data": {
      "text/html": [
       "<div>\n",
       "<style scoped>\n",
       "    .dataframe tbody tr th:only-of-type {\n",
       "        vertical-align: middle;\n",
       "    }\n",
       "\n",
       "    .dataframe tbody tr th {\n",
       "        vertical-align: top;\n",
       "    }\n",
       "\n",
       "    .dataframe thead th {\n",
       "        text-align: right;\n",
       "    }\n",
       "</style>\n",
       "<table border=\"1\" class=\"dataframe\">\n",
       "  <thead>\n",
       "    <tr style=\"text-align: right;\">\n",
       "      <th></th>\n",
       "      <th>id</th>\n",
       "      <th>profit</th>\n",
       "    </tr>\n",
       "  </thead>\n",
       "  <tbody>\n",
       "    <tr>\n",
       "      <th>0</th>\n",
       "      <td>6701</td>\n",
       "      <td>7.341870</td>\n",
       "    </tr>\n",
       "    <tr>\n",
       "      <th>1</th>\n",
       "      <td>6702</td>\n",
       "      <td>30.783865</td>\n",
       "    </tr>\n",
       "    <tr>\n",
       "      <th>2</th>\n",
       "      <td>6703</td>\n",
       "      <td>1.406454</td>\n",
       "    </tr>\n",
       "    <tr>\n",
       "      <th>3</th>\n",
       "      <td>6704</td>\n",
       "      <td>4.590744</td>\n",
       "    </tr>\n",
       "    <tr>\n",
       "      <th>4</th>\n",
       "      <td>6705</td>\n",
       "      <td>6.135891</td>\n",
       "    </tr>\n",
       "    <tr>\n",
       "      <th>...</th>\n",
       "      <td>...</td>\n",
       "      <td>...</td>\n",
       "    </tr>\n",
       "    <tr>\n",
       "      <th>3289</th>\n",
       "      <td>9990</td>\n",
       "      <td>9.812805</td>\n",
       "    </tr>\n",
       "    <tr>\n",
       "      <th>3290</th>\n",
       "      <td>9991</td>\n",
       "      <td>9.356704</td>\n",
       "    </tr>\n",
       "    <tr>\n",
       "      <th>3291</th>\n",
       "      <td>9992</td>\n",
       "      <td>1.512493</td>\n",
       "    </tr>\n",
       "    <tr>\n",
       "      <th>3292</th>\n",
       "      <td>9993</td>\n",
       "      <td>6.871001</td>\n",
       "    </tr>\n",
       "    <tr>\n",
       "      <th>3293</th>\n",
       "      <td>9994</td>\n",
       "      <td>0.780953</td>\n",
       "    </tr>\n",
       "  </tbody>\n",
       "</table>\n",
       "<p>3294 rows × 2 columns</p>\n",
       "</div>"
      ],
      "text/plain": [
       "        id     profit\n",
       "0     6701   7.341870\n",
       "1     6702  30.783865\n",
       "2     6703   1.406454\n",
       "3     6704   4.590744\n",
       "4     6705   6.135891\n",
       "...    ...        ...\n",
       "3289  9990   9.812805\n",
       "3290  9991   9.356704\n",
       "3291  9992   1.512493\n",
       "3292  9993   6.871001\n",
       "3293  9994   0.780953\n",
       "\n",
       "[3294 rows x 2 columns]"
      ]
     },
     "execution_count": 119,
     "metadata": {},
     "output_type": "execute_result"
    }
   ],
   "source": [
    "final_output"
   ]
  },
  {
   "cell_type": "code",
   "execution_count": null,
   "metadata": {},
   "outputs": [],
   "source": []
  }
 ],
 "metadata": {
  "kernelspec": {
   "display_name": "Python 3",
   "language": "python",
   "name": "python3"
  },
  "language_info": {
   "codemirror_mode": {
    "name": "ipython",
    "version": 3
   },
   "file_extension": ".py",
   "mimetype": "text/x-python",
   "name": "python",
   "nbconvert_exporter": "python",
   "pygments_lexer": "ipython3",
   "version": "3.8.3"
  }
 },
 "nbformat": 4,
 "nbformat_minor": 4
}
